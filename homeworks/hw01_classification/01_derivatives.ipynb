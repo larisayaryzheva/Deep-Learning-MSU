{
  "cells": [
    {
      "cell_type": "markdown",
      "metadata": {
        "id": "VqEpGyyyGE1Z",
        "tags": [
          "pdf-title"
        ]
      },
      "source": [
        "## Solving the linear regression problem with gradient descent\n",
        "\n",
        "Today we rewise the linear regression algorithm and it's gradient solution.\n",
        "\n",
        "Your main goal will be to __derive and implement the gradient of MSE, MAE, L1 and L2 regularization terms__ respectively in general __vector form__ (when both single observation $\\mathbf{x}_i$ and corresponding target value $\\mathbf{y}_i$ are vectors).\n",
        "\n",
        "This techniques will be useful later in Deep Learning module of our course as well.\n",
        "\n",
        "We will work with [Boston housing prices dataset](https://scikit-learn.org/stable/modules/generated/sklearn.datasets.load_boston.html) subset, which have been preprocessed for your convenience."
      ]
    },
    {
      "cell_type": "code",
      "execution_count": 1,
      "metadata": {
        "colab": {
          "base_uri": "https://localhost:8080/"
        },
        "id": "yRiXkj6YfOvo",
        "outputId": "59f66d1b-cf8d-47b5-ec2c-27c361f8cd49"
      },
      "outputs": [
        {
          "output_type": "stream",
          "name": "stdout",
          "text": [
            "--2025-10-05 12:49:53--  https://raw.githubusercontent.com/girafe-ai/ml-course/25s_msai/homeworks/hw03_derivatives/derivatives.py\n",
            "Resolving raw.githubusercontent.com (raw.githubusercontent.com)... 185.199.108.133, 185.199.109.133, 185.199.110.133, ...\n",
            "Connecting to raw.githubusercontent.com (raw.githubusercontent.com)|185.199.108.133|:443... connected.\n",
            "HTTP request sent, awaiting response... 200 OK\n",
            "Length: 4601 (4.5K) [text/plain]\n",
            "Saving to: ‘derivatives.py.1’\n",
            "\n",
            "\rderivatives.py.1      0%[                    ]       0  --.-KB/s               \rderivatives.py.1    100%[===================>]   4.49K  --.-KB/s    in 0s      \n",
            "\n",
            "2025-10-05 12:49:53 (37.6 MB/s) - ‘derivatives.py.1’ saved [4601/4601]\n",
            "\n",
            "--2025-10-05 12:49:54--  https://raw.githubusercontent.com/girafe-ai/ml-course/25s_msai/homeworks/hw03_derivatives/boston_subset.json\n",
            "Resolving raw.githubusercontent.com (raw.githubusercontent.com)... 185.199.108.133, 185.199.109.133, 185.199.110.133, ...\n",
            "Connecting to raw.githubusercontent.com (raw.githubusercontent.com)|185.199.108.133|:443... connected.\n",
            "HTTP request sent, awaiting response... 200 OK\n",
            "Length: 17921 (18K) [text/plain]\n",
            "Saving to: ‘boston_subset.json’\n",
            "\n",
            "boston_subset.json  100%[===================>]  17.50K  --.-KB/s    in 0s      \n",
            "\n",
            "2025-10-05 12:49:54 (94.7 MB/s) - ‘boston_subset.json’ saved [17921/17921]\n",
            "\n"
          ]
        }
      ],
      "source": [
        "'''\n",
        "If you are using Google Colab, uncomment the next lines to download `derivatives.py` and `boston_subset.json`\n",
        "You can open and change downloaded `.py` files in Colab using the \"Files\" sidebar on the left.\n",
        "'''\n",
        "!wget https://raw.githubusercontent.com/girafe-ai/ml-course/25s_msai/homeworks/hw03_derivatives/derivatives.py\n",
        "!wget https://raw.githubusercontent.com/girafe-ai/ml-course/25s_msai/homeworks/hw03_derivatives/boston_subset.json"
      ]
    },
    {
      "cell_type": "code",
      "execution_count": 2,
      "metadata": {
        "id": "8lQUR89nGE1f"
      },
      "outputs": [],
      "source": [
        "# Run some setup code for this notebook.\n",
        "import random\n",
        "import numpy as np\n",
        "import matplotlib.pyplot as plt\n",
        "\n",
        "# Some more magic so that the notebook will reload external python modules;\n",
        "# see http://stackoverflow.com/questions/1907993/autoreload-of-modules-in-ipython\n",
        "# %load_ext autoreload\n",
        "# %autoreload 2"
      ]
    },
    {
      "cell_type": "code",
      "execution_count": 3,
      "metadata": {
        "id": "OGf3ShTNGE1q"
      },
      "outputs": [],
      "source": [
        "import json\n",
        "with open('boston_subset.json', 'r') as iofile:\n",
        "    dataset = json.load(iofile)\n",
        "feature_matrix = np.array(dataset['data'])\n",
        "targets = np.array(dataset['target'])"
      ]
    },
    {
      "cell_type": "markdown",
      "metadata": {
        "id": "BIUU1cOZGE10"
      },
      "source": [
        "## Warming up: matrix differentiation\n",
        "_You will meet these questions later in Labs as well, so we highly recommend to answer them right here._\n",
        "\n",
        "Credits: this theoretical part is copied from [YSDA Practical_DL course](https://github.com/yandexdataschool/Practical_DL/tree/spring2019/homework01) homework01."
      ]
    },
    {
      "cell_type": "markdown",
      "metadata": {
        "id": "CvrZt_xNGE12"
      },
      "source": [
        "Since it easy to google every task please please please try to understand what's going on. The \"just answer\" thing will not be  counted, make sure to present derivation of your solution. It is absolutely OK if you will find an answer on web then just exercise in $\\LaTeX$ copying it into here."
      ]
    },
    {
      "cell_type": "markdown",
      "metadata": {
        "id": "ty4m156yGE15"
      },
      "source": [
        "Useful links:\n",
        "[1](http://www.machinelearning.ru/wiki/images/2/2a/Matrix-Gauss.pdf)\n",
        "[2](http://www.atmos.washington.edu/~dennis/MatrixCalculus.pdf)\n",
        "[3](http://cal.cs.illinois.edu/~johannes/research/matrix%20calculus.pdf)\n",
        "[4](http://research.microsoft.com/en-us/um/people/cmbishop/prml/index.htm)"
      ]
    },
    {
      "cell_type": "markdown",
      "metadata": {
        "id": "k8StFOCFGE17"
      },
      "source": [
        "#### Inline question 1\n",
        "$$  \n",
        "y = x^Tx,  \\quad x \\in \\mathbb{R}^N\n",
        "$$\n",
        "\n",
        "$$\n",
        "\\frac{dy}{dx} =\n",
        "$$\n",
        "\n",
        "Распишем значение для $y$ и производную **покомпонентно**:\n",
        "$$\n",
        "y = \\sum_{i}x_{i}^2 \\quad \\frac{dy}{dx_{i}} = 2x_{i}\n",
        "$$\n",
        "Следовательно, получаем\n",
        "$$\n",
        "\\frac{dy}{dx} = 2x\n",
        "$$"
      ]
    },
    {
      "cell_type": "markdown",
      "metadata": {
        "id": "qtnNCP4JGE19"
      },
      "source": [
        "#### Inline question 2\n",
        "$$ y = tr(AB) \\quad A,B \\in \\mathbb{R}^{N \\times N} $$\n",
        "\n",
        "$$\n",
        "\\frac{dy}{dA} =\n",
        "$$\n",
        "  \n",
        "\n",
        "  \n",
        "Запишем выражение для следа произведения матриц $A$ и $B$:\n",
        "$$\n",
        "y = tr(AB) = \\sum_{i=1}^{N}\\sum_{k=1}^{N}a_{ik}b_{ki}\n",
        "$$\n",
        "Производная по компоненте $a_{lc}$:\n",
        "$$\n",
        "\\frac{dy}{da_{lc}} = b_{cl}\n",
        "$$\n",
        "Следовательно,\n",
        "$$\n",
        "\\frac{dy}{dA} = B^{T}\n",
        "$$"
      ]
    },
    {
      "cell_type": "markdown",
      "metadata": {
        "id": "JWfcC7_dGE2A"
      },
      "source": [
        "#### Inline question 3\n",
        "$$  \n",
        "y = x^TAc , \\quad A\\in \\mathbb{R}^{N \\times N}, x\\in \\mathbb{R}^{N}, c\\in \\mathbb{R}^{N}\n",
        "$$\n",
        "\n",
        "$$\n",
        "\\frac{dy}{dx} =\n",
        "$$\n",
        "\n",
        "$$\n",
        "\\frac{dy}{dA} =\n",
        "$$\n",
        "\n",
        "Hint for the latter (one of the ways): use *ex. 2* result and the fact\n",
        "$$\n",
        "tr(ABC) = tr (CAB)\n",
        "$$\n",
        "\n",
        "Запись $y$ через сумму:\n",
        "$$\n",
        "y = \\sum_{i=1}^{N} x_{i}[Ac]_{i} = \\sum_{i=1}^{N} x_{i} \\sum_{k=1}^{N} a_{ik}c_{k}\n",
        "$$\n",
        "\n",
        "$$\n",
        "\\frac{dy}{dx_{i}} = [Ac]_{i} \\quad => \\quad \\frac{dy}{dx} = Ac\n",
        "$$\n",
        "\n",
        "$$\n",
        "\\frac{dy}{da_{ij}} = x_{i}c_{j}  \\quad => \\quad \\frac{dy}{dA} = xc^{T}\n",
        "$$\n"
      ]
    },
    {
      "cell_type": "markdown",
      "metadata": {
        "id": "WbBc_5FhGE2B"
      },
      "source": [
        "## Loss functions and derivatives implementation\n",
        "You will need to implement the methods from `loss_and_derivatives.py` to go further.\n",
        "__In this assignment we ignore the bias term__, so the linear model takes simple form of\n",
        "$$\n",
        "\\hat{\\mathbf{y}} = XW\n",
        "$$\n",
        "where no extra column of 1s is added to the $X$ matrix.\n",
        "\n",
        "Implement the loss functions, regularization terms and their derivatives with reference to (w.r.t.) weight matrix.\n",
        "\n",
        "__Once again, you can assume that linear model is not required for bias term for now. The dataset is preprocessed for this case.__"
      ]
    },
    {
      "cell_type": "markdown",
      "metadata": {
        "id": "l-CX9dTLGE1y"
      },
      "source": [
        "Autoreload is a great stuff, but sometimes it does not work as intended. The code below aims to fix that. __Do not forget to save your changes in the `.py` file before reloading the desired functions.__"
      ]
    },
    {
      "cell_type": "code",
      "execution_count": 4,
      "metadata": {
        "colab": {
          "base_uri": "https://localhost:8080/"
        },
        "id": "dtELlRTOGE2E",
        "tags": [
          "pdf-ignore"
        ],
        "outputId": "a4c5c4e1-354a-4c0b-9776-eb5a06fc9b64"
      },
      "outputs": [
        {
          "output_type": "stream",
          "name": "stderr",
          "text": [
            "/content/derivatives.py:44: SyntaxWarning: invalid escape sequence '\\s'\n",
            "  single number with sum of squared elements of the weight matrix ( \\sum_{ij} w_{ij}^2 )\n",
            "/content/derivatives.py:58: SyntaxWarning: invalid escape sequence '\\s'\n",
            "  single number with sum of the absolute values of the weight matrix ( \\sum_{ij} |w_{ij}| )\n"
          ]
        }
      ],
      "source": [
        "# This dirty hack might help if the autoreload has failed for some reason\n",
        "try:\n",
        "    del LossAndDerivatives\n",
        "except:\n",
        "    pass\n",
        "\n",
        "from derivatives import LossAndDerivatives"
      ]
    },
    {
      "cell_type": "markdown",
      "metadata": {
        "id": "KUgTiH6vfOvv"
      },
      "source": [
        "Mention, that in this case we compute the __MSE__ and __MAE__ for vector __y__. In the reference implementation we are averaging the error along the __y__ dimentionality as well.\n",
        "\n",
        "E.g. for residuals vector $[1., 1., 1., 1.]$ the averaged error value will be $\\frac{1}{4}(1. + 1. + 1. + 1.)$\n",
        "\n",
        "This may be needed to get the desired mutliplier for loss functions derivatives. You also can refer to the `.mse` method implementation, which is already available in the `loss_and_derivatives.py`."
      ]
    },
    {
      "cell_type": "code",
      "execution_count": 5,
      "metadata": {
        "id": "71VCxUwHGE2L"
      },
      "outputs": [],
      "source": [
        "w = np.array([1., 1.])\n",
        "x_n, y_n = feature_matrix, targets"
      ]
    },
    {
      "cell_type": "markdown",
      "metadata": {
        "id": "sMN81aYyGE2T"
      },
      "source": [
        "Here come several asserts to check yourself:"
      ]
    },
    {
      "cell_type": "code",
      "execution_count": 6,
      "metadata": {
        "id": "KKUYnPWuGE2V"
      },
      "outputs": [],
      "source": [
        "w = np.array([1., 1.])\n",
        "x_n, y_n = feature_matrix, targets\n",
        "\n",
        "# Repeating data to make everything multi-dimentional\n",
        "w = np.vstack([w[None, :] + 0.27, w[None, :] + 0.22, w[None, :] + 0.45, w[None, :] + 0.1]).T\n",
        "y_n = np.hstack([y_n[:, None], 2*y_n[:, None], 3*y_n[:, None], 4*y_n[:, None]])"
      ]
    },
    {
      "cell_type": "code",
      "execution_count": 7,
      "metadata": {
        "colab": {
          "base_uri": "https://localhost:8080/"
        },
        "id": "UtkO4hWYGE2c",
        "outputId": "cd5c22ed-625e-42ff-d12d-345e3b1c9c72"
      },
      "outputs": [
        {
          "output_type": "stream",
          "name": "stdout",
          "text": [
            "MSE derivative:\n",
            "[[ 7.32890068 12.88731311 18.82128365 23.97731238]\n",
            " [ 9.55674399 17.05397661 24.98807528 32.01723714]] \n",
            "\n",
            "L2 reg derivative:\n",
            "[[2.54 2.44 2.9  2.2 ]\n",
            " [2.54 2.44 2.9  2.2 ]]\n"
          ]
        }
      ],
      "source": [
        "reference_mse_derivative = np.array([\n",
        "    [ 7.32890068, 12.88731311, 18.82128365, 23.97731238],\n",
        "    [ 9.55674399, 17.05397661, 24.98807528, 32.01723714]\n",
        "])\n",
        "reference_l2_reg_derivative = np.array([\n",
        "    [2.54, 2.44, 2.9 , 2.2 ],\n",
        "    [2.54, 2.44, 2.9 , 2.2 ]\n",
        "])\n",
        "\n",
        "assert np.allclose(\n",
        "    reference_mse_derivative,\n",
        "    LossAndDerivatives.mse_derivative(x_n, y_n, w), rtol=1e-3\n",
        "), 'Something wrong with MSE derivative'\n",
        "\n",
        "assert np.allclose(\n",
        "    reference_l2_reg_derivative,\n",
        "    LossAndDerivatives.l2_reg_derivative(w), rtol=1e-3\n",
        "), 'Something wrong with L2 reg derivative'\n",
        "\n",
        "print(\n",
        "    'MSE derivative:\\n{} \\n\\nL2 reg derivative:\\n{}'.format(\n",
        "        LossAndDerivatives.mse_derivative(x_n, y_n, w),\n",
        "        LossAndDerivatives.l2_reg_derivative(w))\n",
        ")"
      ]
    },
    {
      "cell_type": "code",
      "execution_count": 8,
      "metadata": {
        "colab": {
          "base_uri": "https://localhost:8080/"
        },
        "id": "nAhLhZYUfOvw",
        "outputId": "e0b28ddd-cebf-43c8-dd1d-f973f7667dd6"
      },
      "outputs": [
        {
          "output_type": "stream",
          "name": "stdout",
          "text": [
            "MAE derivative:\n",
            "[[0.19708867 0.19621798 0.19621798 0.19572906]\n",
            " [0.25574138 0.25524507 0.25524507 0.25406404]] \n",
            "\n",
            "L1 reg derivative:\n",
            "[[1. 1. 1. 1.]\n",
            " [1. 1. 1. 1.]]\n"
          ]
        }
      ],
      "source": [
        "reference_mae_derivative = np.array([\n",
        "    [0.19708867, 0.19621798, 0.19621798, 0.19572906],\n",
        "    [0.25574138, 0.25524507, 0.25524507, 0.25406404]\n",
        "])\n",
        "reference_l1_reg_derivative = np.array([\n",
        "    [1., 1., 1., 1.],\n",
        "    [1., 1., 1., 1.]\n",
        "])\n",
        "\n",
        "assert np.allclose(\n",
        "    reference_mae_derivative,\n",
        "    LossAndDerivatives.mae_derivative(x_n, y_n, w), rtol=1e-3\n",
        "), 'Something wrong with MAE derivative'\n",
        "\n",
        "assert np.allclose(\n",
        "    reference_l1_reg_derivative,\n",
        "    LossAndDerivatives.l1_reg_derivative(w), rtol=1e-3\n",
        "), 'Something wrong with L1 reg derivative'\n",
        "\n",
        "print(\n",
        "    'MAE derivative:\\n{} \\n\\nL1 reg derivative:\\n{}'.format(\n",
        "        LossAndDerivatives.mae_derivative(x_n, y_n, w),\n",
        "        LossAndDerivatives.l1_reg_derivative(w))\n",
        ")"
      ]
    },
    {
      "cell_type": "markdown",
      "metadata": {
        "id": "kJcSPj8UGE20"
      },
      "source": [
        "### Gradient descent on the real data\n",
        "Here comes small loop with gradient descent algorithm. We compute the gradient over the whole dataset."
      ]
    },
    {
      "cell_type": "code",
      "execution_count": 9,
      "metadata": {
        "id": "On6aSWuIGE21"
      },
      "outputs": [],
      "source": [
        "def get_w_by_grad(X, Y, w_0, loss_mode='mse', reg_mode=None, lr=0.05, n_steps=100, reg_coeff=0.05):\n",
        "    if loss_mode == 'mse':\n",
        "        loss_function = LossAndDerivatives.mse\n",
        "        loss_derivative = LossAndDerivatives.mse_derivative\n",
        "    elif loss_mode == 'mae':\n",
        "        loss_function = LossAndDerivatives.mae\n",
        "        loss_derivative = LossAndDerivatives.mae_derivative\n",
        "    else:\n",
        "        raise ValueError('Unknown loss function. Available loss functions: `mse`, `mae`')\n",
        "\n",
        "    if reg_mode is None:\n",
        "        reg_function = LossAndDerivatives.no_reg\n",
        "        reg_derivative = LossAndDerivatives.no_reg_derivative # lambda w: np.zeros_like(w)\n",
        "    elif reg_mode == 'l2':\n",
        "        reg_function = LossAndDerivatives.l2_reg\n",
        "        reg_derivative = LossAndDerivatives.l2_reg_derivative\n",
        "    elif reg_mode == 'l1':\n",
        "        reg_function = LossAndDerivatives.l1_reg\n",
        "        reg_derivative = LossAndDerivatives.l1_reg_derivative\n",
        "    else:\n",
        "        raise ValueError('Unknown regularization mode. Available modes: `l1`, `l2`, None')\n",
        "\n",
        "\n",
        "    w = w_0.copy()\n",
        "\n",
        "    for i in range(n_steps):\n",
        "        empirical_risk = loss_function(X, Y, w) + reg_coeff * reg_function(w)\n",
        "        gradient = loss_derivative(X, Y, w) + reg_coeff * reg_derivative(w)\n",
        "        gradient_norm = np.linalg.norm(gradient)\n",
        "        if gradient_norm > 5.:\n",
        "            gradient = gradient / gradient_norm * 5.\n",
        "        w -= lr * gradient\n",
        "\n",
        "        if i % 25 == 0:\n",
        "            print('Step={}, loss={},\\ngradient values={}\\n'.format(i, empirical_risk, gradient))\n",
        "    return w\n"
      ]
    },
    {
      "cell_type": "markdown",
      "metadata": {
        "id": "ScTH0iPjfOvx"
      },
      "source": [
        "Let's check how it works."
      ]
    },
    {
      "cell_type": "code",
      "execution_count": 10,
      "metadata": {
        "id": "A1pyDIyqGE25"
      },
      "outputs": [],
      "source": [
        "# Initial weight matrix\n",
        "w = np.ones((2,1), dtype=float)\n",
        "y_n = targets[:, None]"
      ]
    },
    {
      "cell_type": "code",
      "execution_count": 11,
      "metadata": {
        "colab": {
          "base_uri": "https://localhost:8080/"
        },
        "id": "erTRQiAFGE29",
        "outputId": "48966661-df8b-44b4-c9b6-582dbce60e20"
      },
      "outputs": [
        {
          "output_type": "stream",
          "name": "stdout",
          "text": [
            "Step=0, loss=231.28353984777308,\n",
            "gradient values=[[3.03360308]\n",
            " [3.97457575]]\n",
            "\n",
            "Step=25, loss=58.512903511682715,\n",
            "gradient values=[[2.28551977]\n",
            " [4.44706638]]\n",
            "\n",
            "Step=50, loss=48.29584498872882,\n",
            "gradient values=[[-0.89558132]\n",
            " [ 0.76425616]]\n",
            "\n",
            "Step=75, loss=47.292783042717005,\n",
            "gradient values=[[-0.48111511]\n",
            " [ 0.40907079]]\n",
            "\n",
            "Step=100, loss=47.00419092029711,\n",
            "gradient values=[[-0.25806412]\n",
            " [ 0.21942022]]\n",
            "\n",
            "Step=125, loss=46.921159712801064,\n",
            "gradient values=[[-0.1384223 ]\n",
            " [ 0.11769421]]\n",
            "\n",
            "Step=150, loss=46.897270698227686,\n",
            "gradient values=[[-0.07424796]\n",
            " [ 0.06312967]]\n",
            "\n",
            "Step=175, loss=46.890397559386315,\n",
            "gradient values=[[-0.03982566]\n",
            " [ 0.03386195]]\n",
            "\n",
            "Step=200, loss=46.88842007984702,\n",
            "gradient values=[[-0.02136197]\n",
            " [ 0.01816312]]\n",
            "\n",
            "Step=225, loss=46.88785113668749,\n",
            "gradient values=[[-0.01145829]\n",
            " [ 0.00974247]]\n",
            "\n"
          ]
        }
      ],
      "source": [
        "w_grad = get_w_by_grad(x_n, y_n, w, loss_mode='mse', reg_mode='l2', n_steps=250)"
      ]
    },
    {
      "cell_type": "markdown",
      "metadata": {
        "id": "MarFI6UdfOvy"
      },
      "source": [
        "### Comparing with `sklearn`\n",
        "Finally, let's compare our model with `sklearn` implementation."
      ]
    },
    {
      "cell_type": "code",
      "execution_count": 12,
      "metadata": {
        "id": "i5eVBcrSfOvy"
      },
      "outputs": [],
      "source": [
        "from sklearn.linear_model import Ridge"
      ]
    },
    {
      "cell_type": "code",
      "execution_count": 13,
      "metadata": {
        "colab": {
          "base_uri": "https://localhost:8080/"
        },
        "id": "K51WuZh_fOvy",
        "outputId": "e0889dd2-97e8-4726-8f0c-7efb37ab2737"
      },
      "outputs": [
        {
          "output_type": "stream",
          "name": "stdout",
          "text": [
            "sklearn linear regression implementation delivers MSE = 130.71419459475246\n"
          ]
        }
      ],
      "source": [
        "lr = Ridge(alpha=0.05)\n",
        "lr.fit(x_n, y_n)\n",
        "print('sklearn linear regression implementation delivers MSE = {}'.format(np.mean((lr.predict(x_n) - y_n)**2)))"
      ]
    },
    {
      "cell_type": "code",
      "execution_count": 14,
      "metadata": {
        "colab": {
          "base_uri": "https://localhost:8080/",
          "height": 430
        },
        "id": "Gse1m4nyGE3C",
        "outputId": "87c76adf-7984-495a-b765-4a08ad456909"
      },
      "outputs": [
        {
          "output_type": "display_data",
          "data": {
            "text/plain": [
              "<Figure size 640x480 with 1 Axes>"
            ],
            "image/png": "[encoded data removed]"
          },
          "metadata": {}
        }
      ],
      "source": [
        "plt.scatter(x_n[:, -1], y_n[:, -1])\n",
        "plt.scatter(x_n[:, -1], x_n.dot(w_grad)[:, -1], color='orange', label='Handwritten linear regression', linewidth=5)\n",
        "plt.scatter(x_n[:, -1], lr.predict(x_n), color='cyan', label='sklearn Ridge')\n",
        "plt.legend()\n",
        "plt.show()"
      ]
    },
    {
      "cell_type": "markdown",
      "metadata": {
        "id": "yL6O8LczfOvz"
      },
      "source": [
        "While the solutions may look like a bit different, remember, that handwritten linear regression was unable to fit the bias term, it was equal to $0$ by default."
      ]
    },
    {
      "cell_type": "markdown",
      "metadata": {
        "id": "6GgeWdBmGE3H"
      },
      "source": [
        "### Submit your work\n",
        "To submit your work you need to log into Yandex contest (link will be provided later) and upload the `loss_and_derivatives.py` file for the corresponding problem."
      ]
    }
  ],
  "metadata": {
    "colab": {
      "name": "assignment0_02_linear_regression_and_gradient_descent.ipynb",
      "provenance": []
    },
    "kernelspec": {
      "display_name": "Py3 research env",
      "language": "python",
      "name": "py3_research"
    },
    "language_info": {
      "codemirror_mode": {
        "name": "ipython",
        "version": 3
      },
      "file_extension": ".py",
      "mimetype": "text/x-python",
      "name": "python",
      "nbconvert_exporter": "python",
      "pygments_lexer": "ipython3",
      "version": "3.7.7"
    }
  },
  "nbformat": 4,
  "nbformat_minor": 0
}